{
 "cells": [
  {
   "cell_type": "markdown",
   "metadata": {},
   "source": [
    "## Nonlinear Regression using Tensorflow"
   ]
  },
  {
   "cell_type": "code",
   "execution_count": null,
   "metadata": {
    "collapsed": false
   },
   "outputs": [],
   "source": [
    "import matplotlib\n",
    "#matplotlib.use('Agg')\n",
    "from __future__ import division\n",
    "%matplotlib inline\n",
    "\n",
    "import tensorflow as tf\n",
    "import numpy as np\n",
    "import scipy.signal as sig\n",
    "from scipy import interpolate\n",
    "\n",
    "import sys\n",
    "sys.path.append('../MockData/')\n",
    "sys.path.append('../pynoisesub/')\n",
    "from mock_noise import f, starting_data\n",
    "#from subtraction_plots import plot_results\n",
    "\n",
    "import matplotlib.pyplot as plt\n",
    "import matplotlib.animation as animation\n",
    "import matplotlib.colors\n",
    "from params import *\n",
    "from tf_2dhelpers import *\n",
    "\n",
    "# these options give you more info, but slow it down\n",
    "print_loss = False\n",
    "animate = False"
   ]
  },
  {
   "cell_type": "code",
   "execution_count": null,
   "metadata": {
    "collapsed": false
   },
   "outputs": [],
   "source": [
    "# get data\n",
    "times, darm, wit1, wit2, data = starting_data(filt=True)\n",
    "# format data for model input\n",
    "wit1 = wit1.astype(np.float32)\n",
    "wit2 = wit2.astype(np.float32)\n",
    "fs = int(1/times[1])\n",
    "b,a = sig.butter(4, 2*30.0/fs, btype='highpass')\n",
    "darm_scaled = (sig.filtfilt(b,a,darm)/NOISE_LEVEL).astype(np.float32)\n",
    "data_scaled = (sig.filtfilt(b,a,data)/NOISE_LEVEL).astype(np.float32)\n",
    "\n",
    "# bandpass to use for loss calculation\n",
    "fir_bandpass = sig.firwin(N+1, [50, 400], pass_zero=False, nyq = fs/2.0)\n",
    "\n",
    "# lattice parameters (what are these ?) \n",
    "lattice_res = 100\n",
    "epsilon     = 1e-5\n",
    "n           = 10\n",
    "\n",
    "animate = 'True'"
   ]
  },
  {
   "cell_type": "code",
   "execution_count": null,
   "metadata": {
    "collapsed": true
   },
   "outputs": [],
   "source": [
    "def generate_grids(weights, phases):\n",
    "    # weights: nHidden1 x n x 2n\n",
    "    # phases: nHidden1 x n x 2n\n",
    "    # out: nHidden1 x lattice_res x lattice_res\n",
    "    # each grid is sum over n x 2n fourier terms, so before contraction the\n",
    "    # grids tensor has shape [nHidden1, n, 2n, lattice_res, lattice_res]\n",
    "    coords = tf.linspace(-1 + epsilon, 1-epsilon, lattice_res)\n",
    "    xs = tf.reshape(coords, [1, 1, 1, lattice_res, 1])\n",
    "    ys = tf.reshape(coords, [1, 1, 1, 1, lattice_res])\n",
    "    fx = tf.reshape(tf.linspace(0.0, n-1, n), [1, n, 1, 1, 1])\n",
    "    fy = tf.reshape(tf.linspace(-n*1.0, n-1, 2*n), [1, 1, 2*n, 1, 1])\n",
    "\n",
    "    phi = tf.reshape(phases, [-1, n, 2*n, 1, 1])\n",
    "    amp = tf.reshape(weights, [-1, n, 2*n, 1, 1])\n",
    "    grids = amp*tf.sin(np.pi*(fx*xs + fy*ys)/2 + phi) # rank 5\n",
    "    # sum up terms to make grids, reshape for matmul compatibility later\n",
    "    out = tf.reshape(tf.reduce_sum(grids, [1,2]), [-1, lattice_res*lattice_res])\n",
    "    return out"
   ]
  },
  {
   "cell_type": "code",
   "execution_count": null,
   "metadata": {
    "collapsed": true
   },
   "outputs": [],
   "source": [
    "def init_weights(shape, init_method='xavier', xavier_params = (None, None)):\n",
    "    if init_method == 'zeros':\n",
    "        return tf.Variable(tf.zeros(shape, dtype=tf.float32))\n",
    "    elif init_method == 'uniform':\n",
    "        return tf.Variable(\n",
    "            tf.random_normal(shape, stddev=0.01, dtype=tf.float32))\n",
    "    else: #xavier\n",
    "        (fan_in, fan_out) = xavier_params\n",
    "        low = -4*np.sqrt(6.0/(fan_in + fan_out)) # {sigmoid:4, tanh:1}\n",
    "        high = 8*np.sqrt(6.0/(fan_in + fan_out))\n",
    "        return tf.Variable(tf.random_uniform(shape, minval=low, maxval=high))"
   ]
  },
  {
   "cell_type": "code",
   "execution_count": null,
   "metadata": {
    "collapsed": true
   },
   "outputs": [],
   "source": [
    "def multilayer_perceptron(weights, biases):\n",
    "    # rank 3 tensor [nHidden1, lattice_res, lattice_res]\n",
    "    layer_1 = generate_grids(weights['h1'], biases['b1']) # rank 3 tensor\n",
    "    layer_2 = tf.add(tf.matmul(weights['h2'], layer_1), biases['b2'])\n",
    "    # layer_2 = tf.nn.tanh(layer_2)\n",
    "\n",
    "    out_layer = tf.add(tf.matmul(weights['out'], layer_2), biases['out'])\n",
    "    return out_layer"
   ]
  },
  {
   "cell_type": "code",
   "execution_count": null,
   "metadata": {
    "collapsed": false
   },
   "outputs": [],
   "source": [
    "nHidden1 = 3\n",
    "nHidden2 = 1\n",
    "\n",
    "weights =  {\n",
    "    'h1': init_weights(\n",
    "        [nHidden1, n, 2*n],\n",
    "        # 'zeros'),\n",
    "        'uniform'),\n",
    "        # 'xavier',\n",
    "        # xavier_params=(2*n*n, nHidden1)),\n",
    "    'h2': init_weights(\n",
    "        [nHidden2, nHidden1],\n",
    "        # 'zeros'),\n",
    "        'xavier',\n",
    "        xavier_params=(nHidden1, nHidden2)),\n",
    "     'out': init_weights(\n",
    "        [1, nHidden2],\n",
    "        # 'zeros')\n",
    "        'xavier',\n",
    "        xavier_params=(nHidden2,1))\n",
    "}\n",
    "\n",
    "biases = {\n",
    "    # 'b1': init_weights([nHidden1, n, 2*n],'xavier', xavier_params=(n*n, nHidden1)),\n",
    "    # 'b1': init_weights([nHidden1, n, 2*n],'zeros'),\n",
    "    'b1': init_weights([nHidden1, n, 2*n],'uniform'),\n",
    "    'b2': init_weights([nHidden2, 1],'zeros'),\n",
    "    'out': init_weights([1, 1],'zeros')\n",
    "}\n",
    "\n",
    "witness1 = tf.placeholder(tf.float32, [None])\n",
    "witness2 = tf.placeholder(tf.float32, [None])\n",
    "target   = tf.placeholder(tf.float32, [None])\n",
    "bandpass = tf.placeholder(tf.float32, [None])\n",
    "\n",
    "nonlinearWitness = tf.reshape(\n",
    "    multilayer_perceptron(weights, biases),\n",
    "    [lattice_res, lattice_res])\n",
    "interpolated_wit = extract_wit(nonlinearWitness, witness1, witness2)\n",
    "\n",
    "# loss = tf.reduce_mean(tf.abs(target-interpolated_wit), 0)\n",
    "filt         = tf_wiener_fir(target, interpolated_wit)\n",
    "filtered_wit = tf_filt(interpolated_wit, filt)\n",
    "resid        = tf.slice(target, [N], [-1]) - filtered_wit\n",
    "loss         = tf.reduce_mean(tf.abs(tf_filt(resid, bandpass)), 0)\n",
    "\n",
    "# anytime you change the loss function, the learning rate needs to change\n",
    "optimizer    = tf.train.AdamOptimizer(learning_rate=5e-2, epsilon=1e-9)\n",
    "train_step   = optimizer.minimize(loss)\n",
    "init         = tf.initialize_all_variables()"
   ]
  },
  {
   "cell_type": "markdown",
   "metadata": {},
   "source": [
    "## Run the Tensorflow Regression thing"
   ]
  },
  {
   "cell_type": "code",
   "execution_count": null,
   "metadata": {
    "collapsed": false
   },
   "outputs": [],
   "source": [
    "# Launch the graph.\n",
    "sess  = tf.Session()\n",
    "sess.run(init)\n",
    "nIter = 20\n",
    "if(animate):\n",
    "    frames = np.zeros((nIter+1, lattice_res, lattice_res))\n",
    "if(print_loss):\n",
    "    best = sess.run(\n",
    "        loss,\n",
    "        feed_dict={\n",
    "            witness1:wit1,\n",
    "            witness2:wit2,\n",
    "            target:darm_scaled,\n",
    "            bandpass:fir_bandpass})\n",
    "# perfect subtraction would just leave data\n",
    "goal = sess.run(\n",
    "    loss,\n",
    "    feed_dict={\n",
    "        witness1:np.zeros(wit1.size),\n",
    "        witness2:np.zeros(wit2.size),\n",
    "        target:data_scaled,\n",
    "        bandpass:fir_bandpass})\n",
    "print \"Loss goal:\", goal\n",
    "\n",
    "for i in xrange(nIter):\n",
    "    if(animate):\n",
    "        frames[i,:,:] = nonlinearWitness.eval(session=sess)\n",
    "    sess.run(\n",
    "        train_step,\n",
    "        feed_dict={\n",
    "            witness1:wit1,\n",
    "            witness2:wit2,\n",
    "            target:darm_scaled,\n",
    "            bandpass:fir_bandpass})\n",
    "    print \"ITERATION:\", i\n",
    "    # It's nice to have loss updates, but this does actually slow it down\n",
    "    if(print_loss):\n",
    "        loss_i = sess.run(\n",
    "            loss,\n",
    "            feed_dict={\n",
    "                witness1:wit1,\n",
    "                witness2:wit2,\n",
    "                target:darm_scaled,\n",
    "                bandpass:fir_bandpass})\n",
    "        if loss_i < best:\n",
    "            print loss_i, \"**New best**\"\n",
    "            best = loss_i\n",
    "            # best_lattice = nonlinearWitness.eval(session=sess)\n",
    "        else:\n",
    "            print loss_i\n",
    "\n",
    "\n",
    "# get final model outputs\n",
    "end_lattice = nonlinearWitness.eval(session=sess)\n",
    "end_loss = sess.run(\n",
    "    loss,\n",
    "    feed_dict={\n",
    "        witness1:wit1,\n",
    "        witness2:wit2,\n",
    "        target:darm_scaled,\n",
    "        bandpass:fir_bandpass})\n",
    "end_wit = interpolated_wit.eval(\n",
    "    session=sess,\n",
    "    feed_dict={witness1:wit1,\n",
    "               witness2:wit2,\n",
    "               target:darm_scaled,\n",
    "               bandpass:fir_bandpass})\n",
    "\n",
    "print \"Final loss:\", end_loss\n",
    "\n",
    "# make 'perfect solution' lattice for comparison\n",
    "lattice_real = np.zeros((lattice_res, lattice_res), dtype = np.float32)\n",
    "\n",
    "coords  = np.linspace(-1+epsilon, 1-epsilon, lattice_res)\n",
    "xs_grid = np.arctanh(coords)*scale_factor\n",
    "ys_grid = np.arctanh(coords)*scale_factor\n",
    "\n",
    "for i in range (0, lattice_res):\n",
    "    lattice_real[:,i] = f(xs_grid, ys_grid[i])\n",
    "\n",
    "# save data (maybe pickle them into a single file?)\n",
    "np.save(\"tfend_darm\", darm)\n",
    "np.save(\"tfend_wit1\", wit1)\n",
    "np.save(\"tfend_wit2\", wit2)\n",
    "np.save(\"tfend_data\", data)\n",
    "np.save(\"tfend_wit_result\", end_wit)\n",
    "np.save(\"tfend_lattice_result\", end_lattice)\n",
    "    \n",
    "#if __name__ == \"__main__\":\n",
    "#    main()"
   ]
  },
  {
   "cell_type": "code",
   "execution_count": null,
   "metadata": {
    "collapsed": false
   },
   "outputs": [],
   "source": [
    "# plot lattice values as images\n",
    "plt.figure(figsize=(13,5))\n",
    "plt.subplot(1,2,1)\n",
    "plt.pcolor(np.real(end_lattice), cmap=matplotlib.cm.inferno)\n",
    "plt.colorbar()\n",
    "\n",
    "plt.subplot(1,2,2)\n",
    "plt.pcolor(lattice_real, cmap=matplotlib.cm.inferno)\n",
    "plt.colorbar()\n",
    "plt.show()\n",
    "plt.savefig(\"result_tf.png\")"
   ]
  },
  {
   "cell_type": "code",
   "execution_count": null,
   "metadata": {
    "collapsed": false
   },
   "outputs": [],
   "source": [
    "# make animation\n",
    "if(animate):\n",
    "    frames[-1, :, :] = end_lattice\n",
    "    print 'Animating...'\n",
    "    Writer = animation.writers['ffmpeg']\n",
    "    writer = Writer(metadata=dict(artist='Me'), bitrate=1800)\n",
    "    fig = plt.figure(figsize=(11,11))\n",
    "    def plot_frame(frame):\n",
    "        plt.pcolor(frame, cmap=matplotlib.cm.inferno)\n",
    "    anim = animation.FuncAnimation(\n",
    "        fig, plot_frame, frames, interval=500)\n",
    "    anim.save('lattice_evolution.mp4', writer=writer)\n",
    "    print 'Done.'\n",
    "# plot ASDs and coherence\n",
    "#plot_results(\n",
    "#    darm, wit1, wit2, end_wit, data,\n",
    "#    file_end=\"_2dft\", plot_all=True, filt=True)"
   ]
  },
  {
   "cell_type": "code",
   "execution_count": null,
   "metadata": {
    "collapsed": true
   },
   "outputs": [],
   "source": []
  }
 ],
 "metadata": {
  "kernelspec": {
   "display_name": "Python 2",
   "language": "python",
   "name": "python2"
  },
  "language_info": {
   "codemirror_mode": {
    "name": "ipython",
    "version": 2
   },
   "file_extension": ".py",
   "mimetype": "text/x-python",
   "name": "python",
   "nbconvert_exporter": "python",
   "pygments_lexer": "ipython2",
   "version": "2.7.13"
  }
 },
 "nbformat": 4,
 "nbformat_minor": 0
}
